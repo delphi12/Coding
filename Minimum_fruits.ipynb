{
 "cells": [
  {
   "cell_type": "code",
   "execution_count": 165,
   "id": "452be2eb",
   "metadata": {},
   "outputs": [
    {
     "data": {
      "text/plain": [
       "'Amazon recently launched a new game, Fruit Crush! In this game, you are allowed to choose two dissimilar fruits and \\ncrush them. Each type of fruit is represented as an integer in an array. Formally you can choose any two unequal integers \\nin the array and delete them. Given an array fruits of size n, return the minimum possible number of fruits left after the \\ngiven operation is performed any number of times. Example n = 5 fruits = [3, 3, 1, 1, 2] Fruits 1 (banana) and 2 (pineapple)\\ncan be crushed first, followed by numbers 1 (banana) and 3 (orange). Only 3 (orange) remains in the array, hence the answer \\nis 1.'"
      ]
     },
     "execution_count": 165,
     "metadata": {},
     "output_type": "execute_result"
    }
   ],
   "source": [
    "'''Amazon recently launched a new game, Fruit Crush! In this game, you are allowed to choose two dissimilar fruits and \n",
    "crush them. Each type of fruit is represented as an integer in an array. Formally you can choose any two unequal integers \n",
    "in the array and delete them. Given an array fruits of size n, return the minimum possible number of fruits left after the \n",
    "given operation is performed any number of times. Example n = 5 fruits = [3, 3, 1, 1, 2] Fruits 1 (banana) and 2 (pineapple)\n",
    "can be crushed first, followed by numbers 1 (banana) and 3 (orange). Only 3 (orange) remains in the array, hence the answer \n",
    "is 1.'''\n",
    "\n",
    "'''The Test cases are :\n",
    "            [3,3,1,1,2]\n",
    "            [1,2]\n",
    "            [1,1,2,2,3,3]\n",
    "            [1, 1, 1, 2, 3, 4]\n",
    "            [1, 1, 1, 1, 1]\n",
    "'''"
   ]
  },
  {
   "cell_type": "code",
   "execution_count": 180,
   "id": "4445ed6b",
   "metadata": {},
   "outputs": [
    {
     "name": "stdout",
     "output_type": "stream",
     "text": [
      "Enter array Size: 4\n",
      "1\n",
      "1\n",
      "2\n",
      "1\n"
     ]
    }
   ],
   "source": [
    "n = int(input(\"Enter array Size: \"))\n",
    "fruits=[]\n",
    "for i in range (0,n):\n",
    "    fruit = int(input())\n",
    "    fruits.append(fruit)"
   ]
  },
  {
   "cell_type": "code",
   "execution_count": 181,
   "id": "06249608",
   "metadata": {},
   "outputs": [
    {
     "name": "stdout",
     "output_type": "stream",
     "text": [
      "4\n",
      "[1, 1, 2, 1]\n"
     ]
    }
   ],
   "source": [
    "print(n)\n",
    "print(fruits)"
   ]
  },
  {
   "cell_type": "code",
   "execution_count": 182,
   "id": "99b33d80",
   "metadata": {},
   "outputs": [],
   "source": [
    "from collections import Counter\n",
    "import heapq\n",
    "def getMinimumFruits(fruits):\n",
    "    #Counts the frequency of fruits\n",
    "    fruits_counter = Counter(fruits)\n",
    "    #Counter -> Tuple so that we can create Maxheap\n",
    "    fruit_freq = [(-freq, fruit) for fruit, freq in fruits_counter.items()]\n",
    "    n = len(fruit_freq)\n",
    "    print(fruit_freq)\n",
    "    heapq.heapify(fruit_freq)\n",
    "    while n > 1:\n",
    "        top1 = heapq.heappop(fruit_freq)\n",
    "        top2 = heapq.heappop(fruit_freq)\n",
    "        if top1[0] != top2[0]:\n",
    "            temp =(-top1[0])-(-top2[0])\n",
    "            heapq.heappush(fruit_freq, (-temp, top1[0]))\n",
    "        n = len(fruit_freq)\n",
    "    if(len(fruit_freq) == 0):\n",
    "        print(\"Minimum no.of Fruits:\",0)\n",
    "    else:\n",
    "        temp = heapq.heappop(fruit_freq)\n",
    "        print(\"Minimum no.of Fruits:\",-temp[0])"
   ]
  },
  {
   "cell_type": "code",
   "execution_count": 183,
   "id": "edc94088",
   "metadata": {},
   "outputs": [
    {
     "name": "stdout",
     "output_type": "stream",
     "text": [
      "[(-3, 1), (-1, 2)]\n",
      "Minimum no.of Fruits: 2\n"
     ]
    }
   ],
   "source": [
    "getMinimumFruits(fruits)"
   ]
  }
 ],
 "metadata": {
  "kernelspec": {
   "display_name": "Python 3 (ipykernel)",
   "language": "python",
   "name": "python3"
  },
  "language_info": {
   "codemirror_mode": {
    "name": "ipython",
    "version": 3
   },
   "file_extension": ".py",
   "mimetype": "text/x-python",
   "name": "python",
   "nbconvert_exporter": "python",
   "pygments_lexer": "ipython3",
   "version": "3.9.13"
  }
 },
 "nbformat": 4,
 "nbformat_minor": 5
}
