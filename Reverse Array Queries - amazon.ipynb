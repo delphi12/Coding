{
 "cells": [
  {
   "cell_type": "code",
   "execution_count": 42,
   "id": "317466b6",
   "metadata": {},
   "outputs": [],
   "source": [
    "def process(arr, operations):\n",
    "    temp = arr\n",
    "    for i in range(len(operations)):\n",
    "        start, end = operations[i][0], operations[i][1]\n",
    "        arr= arr[:start] + arr[start:end+1][::-1] + arr[end+1:]\n",
    "        #print(arr)\n",
    "    return arr"
   ]
  },
  {
   "cell_type": "code",
   "execution_count": 43,
   "id": "2e403cb6",
   "metadata": {},
   "outputs": [
    {
     "name": "stdout",
     "output_type": "stream",
     "text": [
      "[9, 1, 7, 3, 5, 4, 6, 2, 8, 0]\n"
     ]
    }
   ],
   "source": [
    "arr=[9,8,7,6,5,4,3,2,1,0]\n",
    "operations=[[0,9], [4,5], [3,6], [2,7], [1,8], [0,9]]\n",
    "result = process(arr, operations)\n",
    "print(result)"
   ]
  },
  {
   "cell_type": "code",
   "execution_count": null,
   "id": "a67742ed",
   "metadata": {},
   "outputs": [],
   "source": []
  }
 ],
 "metadata": {
  "kernelspec": {
   "display_name": "Python 3 (ipykernel)",
   "language": "python",
   "name": "python3"
  },
  "language_info": {
   "codemirror_mode": {
    "name": "ipython",
    "version": 3
   },
   "file_extension": ".py",
   "mimetype": "text/x-python",
   "name": "python",
   "nbconvert_exporter": "python",
   "pygments_lexer": "ipython3",
   "version": "3.9.13"
  }
 },
 "nbformat": 4,
 "nbformat_minor": 5
}
