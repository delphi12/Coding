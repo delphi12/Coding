{
 "cells": [
  {
   "cell_type": "markdown",
   "id": "a0c2b840",
   "metadata": {},
   "source": [
    "Check Whether Two Strings are Almost Equivalent\n",
    "Given two strings word1 and word2, return true if the two strings are almost equivalent. Two strings are almost equivalent\n",
    "if the differences between the frequencies of each letter from ‘a’ to ‘z’ in those strings are at most 3. \n",
    "Let’s explore some examples to illustrate this concept:\n",
    "\n",
    "Example 1:\n",
    "Input: word1 = \"aaaa\", word2 = \"bccb\"\n",
    "Output: False\n",
    "Explanation: In \"aaaa\", there are 4 occurrences of the letter ‘a’, but in \"bccb\", there are 0 occurrences of ‘a’. The difference exceeds the allowed limit of 3.\n",
    "Example 2:\n",
    "Input: word1 = \"abcdeef\", word2 = \"abaaacc\"\n",
    "Output: True"
   ]
  },
  {
   "cell_type": "code",
   "execution_count": 1,
   "id": "f3a17f4e",
   "metadata": {},
   "outputs": [],
   "source": [
    "def are_almost_equivalent(word1: str, word2: str) -> bool:\n",
    "    freq1 = [0] * 26\n",
    "    freq2 = [0] * 26\n",
    "\n",
    "    for char in word1:\n",
    "        freq1[ord(char) - ord('a')] += 1\n",
    "\n",
    "    for char in word2:\n",
    "        freq2[ord(char) - ord('a')] += 1\n",
    "\n",
    "    for i in range(26):\n",
    "        if abs(freq1[i] - freq2[i]) > 3:\n",
    "            return False\n",
    "\n",
    "    return True"
   ]
  },
  {
   "cell_type": "code",
   "execution_count": 2,
   "id": "dcfd051f",
   "metadata": {},
   "outputs": [],
   "source": [
    "def process(string1, string2):\n",
    "    res=[]\n",
    "    n=len(string1)\n",
    "    for i in range(0,n):\n",
    "        if(len(string1[i]) == len(string2[i])):\n",
    "            result = are_almost_equivalent(string1[i], string2[i])\n",
    "            if(result):\n",
    "                res.append('YES')\n",
    "            else:\n",
    "                res.append('NO')\n",
    "        else:\n",
    "            res.append('NO')\n",
    "    return res"
   ]
  },
  {
   "cell_type": "code",
   "execution_count": 3,
   "id": "dc5e2680",
   "metadata": {},
   "outputs": [
    {
     "name": "stdout",
     "output_type": "stream",
     "text": [
      "['YES', 'NO']\n"
     ]
    }
   ],
   "source": [
    "s=['aabaab', 'aaaaabb']\n",
    "t=['bbabbc', 'abb']\n",
    "final = process(s,t)\n",
    "print(final)"
   ]
  }
 ],
 "metadata": {
  "kernelspec": {
   "display_name": "Python 3 (ipykernel)",
   "language": "python",
   "name": "python3"
  },
  "language_info": {
   "codemirror_mode": {
    "name": "ipython",
    "version": 3
   },
   "file_extension": ".py",
   "mimetype": "text/x-python",
   "name": "python",
   "nbconvert_exporter": "python",
   "pygments_lexer": "ipython3",
   "version": "3.9.13"
  }
 },
 "nbformat": 4,
 "nbformat_minor": 5
}
