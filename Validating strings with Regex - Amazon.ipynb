{
 "cells": [
  {
   "cell_type": "code",
   "execution_count": 4,
   "id": "675e37e7",
   "metadata": {},
   "outputs": [],
   "source": [
    "import re\n",
    "regex_expression ='^(a|b).*\\1$'\n",
    "\n",
    "pattern = re.compile(regex_expression)"
   ]
  },
  {
   "cell_type": "code",
   "execution_count": 12,
   "id": "e9ca4993",
   "metadata": {},
   "outputs": [
    {
     "name": "stdout",
     "output_type": "stream",
     "text": [
      "Matching strings: ['a', 'b', 'aba']\n"
     ]
    }
   ],
   "source": [
    "import re\n",
    "\n",
    "# Regular expression pattern\n",
    "regex_expression = r'^(a|b)(.*\\1)?$'\n",
    "pattern = re.compile(regex_expression)\n",
    "\n",
    "def find_matching_strings(strings):\n",
    "    matching_strings = []\n",
    "    for string in strings:\n",
    "        if pattern.match(string):\n",
    "            matching_strings.append(string)\n",
    "    return matching_strings\n",
    "\n",
    "# Test strings\n",
    "test_strings = [\n",
    "    'a',\n",
    "    'b',\n",
    "    'ab',\n",
    "    'ba',\n",
    "    'aba'\n",
    "]\n",
    "\n",
    "# Find and print matching strings\n",
    "matching_strings = find_matching_strings(test_strings)\n",
    "print(\"Matching strings:\", matching_strings)"
   ]
  },
  {
   "cell_type": "code",
   "execution_count": null,
   "id": "90d48f20",
   "metadata": {},
   "outputs": [],
   "source": []
  }
 ],
 "metadata": {
  "kernelspec": {
   "display_name": "Python 3 (ipykernel)",
   "language": "python",
   "name": "python3"
  },
  "language_info": {
   "codemirror_mode": {
    "name": "ipython",
    "version": 3
   },
   "file_extension": ".py",
   "mimetype": "text/x-python",
   "name": "python",
   "nbconvert_exporter": "python",
   "pygments_lexer": "ipython3",
   "version": "3.9.13"
  }
 },
 "nbformat": 4,
 "nbformat_minor": 5
}
