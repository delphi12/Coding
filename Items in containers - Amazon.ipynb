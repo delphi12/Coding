{
 "cells": [
  {
   "cell_type": "code",
   "execution_count": 71,
   "id": "4565ebe5",
   "metadata": {},
   "outputs": [],
   "source": [
    "# A container starts with '|' and ends with '|', the items are represented as '*'\n",
    "#the valid container should have both left and right '|'. you need to count the items in the container of specified start and stop indicies\n",
    "#exmaple string: '|**|*|*', start indicies: [1,1], end indicies: [5,6]\n",
    "#from index 1-5 (0-4): '|**|*' -> this is the substring: in this the valid containers are 1, items are 2\n",
    "#from index 1-6 (0-5): '|**|*|' -> this is the substring: in this the valid containers are 2, items are 3"
   ]
  },
  {
   "cell_type": "code",
   "execution_count": 72,
   "id": "4b908f6e",
   "metadata": {},
   "outputs": [],
   "source": [
    "def numberofContainers(String, start, end):\n",
    "    l = len(start)\n",
    "    res =[]\n",
    "    for i in range(l):\n",
    "        substring = string[start[i]-1:end[i]]\n",
    "        count = countStar(substring)\n",
    "        res.append(count)\n",
    "        #print(substring)\n",
    "    return res\n",
    "        \n",
    "def countStar(s):\n",
    "    \n",
    "    left = s.find('|')\n",
    "    right = s.rfind('|')\n",
    "    \n",
    "    if left == -1 or left == right:\n",
    "        return 0\n",
    "    \n",
    "    count = 0\n",
    "    for i in range(left, right + 1):\n",
    "        if s[i] == '*':\n",
    "            count += 1\n",
    "    return count\n",
    "            \n",
    "            "
   ]
  },
  {
   "cell_type": "code",
   "execution_count": 73,
   "id": "21bac6a1",
   "metadata": {},
   "outputs": [
    {
     "name": "stdout",
     "output_type": "stream",
     "text": [
      "[2, 3]\n"
     ]
    }
   ],
   "source": [
    "string = '|**|*|*'\n",
    "startIndices = [1, 1]\n",
    "endIndices = [5, 6]\n",
    "res = numberofContainers(strings, startIndices, endIndices)\n",
    "print(res)\n",
    "\n",
    "#output [2,3]"
   ]
  },
  {
   "cell_type": "code",
   "execution_count": null,
   "id": "1d4efeae",
   "metadata": {},
   "outputs": [],
   "source": []
  }
 ],
 "metadata": {
  "kernelspec": {
   "display_name": "Python 3 (ipykernel)",
   "language": "python",
   "name": "python3"
  },
  "language_info": {
   "codemirror_mode": {
    "name": "ipython",
    "version": 3
   },
   "file_extension": ".py",
   "mimetype": "text/x-python",
   "name": "python",
   "nbconvert_exporter": "python",
   "pygments_lexer": "ipython3",
   "version": "3.9.13"
  }
 },
 "nbformat": 4,
 "nbformat_minor": 5
}
