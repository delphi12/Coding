{
 "cells": [
  {
   "cell_type": "code",
   "execution_count": 3,
   "id": "973bd88b",
   "metadata": {},
   "outputs": [
    {
     "name": "stdout",
     "output_type": "stream",
     "text": [
      "[1, 2, 3, 4, 6, 12]\n"
     ]
    }
   ],
   "source": [
    "#Brute Force Method\n",
    "\n",
    "def factors(n):\n",
    "    result = []\n",
    "    for i in range (1, n+1):\n",
    "        if n%i == 0:\n",
    "            result.append(i)\n",
    "    return result\n",
    "\n",
    "res = factors(12)\n",
    "print(res)"
   ]
  },
  {
   "cell_type": "code",
   "execution_count": 7,
   "id": "96323ba5",
   "metadata": {},
   "outputs": [
    {
     "name": "stdout",
     "output_type": "stream",
     "text": [
      "[1, 12, 2, 6, 3, 4]\n"
     ]
    }
   ],
   "source": [
    "#Efficient\n",
    "\n",
    "def factor(x):\n",
    "    result = []\n",
    "    i=1\n",
    "    # This will loop from 1 to int(sqrt(x))\n",
    "    while i*i <= x:\n",
    "        # Check if i divides x without leaving a remainder\n",
    "        if x % i == 0:\n",
    "            result.append(i)\n",
    "            if x//i != i:\n",
    "                result.append(x//i)\n",
    "        i += 1\n",
    "    return result\n",
    "\n",
    "res = factor(12)\n",
    "print(res)"
   ]
  },
  {
   "cell_type": "code",
   "execution_count": null,
   "id": "4427205a",
   "metadata": {},
   "outputs": [],
   "source": []
  }
 ],
 "metadata": {
  "kernelspec": {
   "display_name": "Python 3 (ipykernel)",
   "language": "python",
   "name": "python3"
  },
  "language_info": {
   "codemirror_mode": {
    "name": "ipython",
    "version": 3
   },
   "file_extension": ".py",
   "mimetype": "text/x-python",
   "name": "python",
   "nbconvert_exporter": "python",
   "pygments_lexer": "ipython3",
   "version": "3.9.13"
  }
 },
 "nbformat": 4,
 "nbformat_minor": 5
}
