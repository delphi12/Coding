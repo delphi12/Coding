{
 "cells": [
  {
   "cell_type": "code",
   "execution_count": null,
   "id": "5cf6c697",
   "metadata": {},
   "outputs": [],
   "source": [
    "#Grouping Anagrams in a list"
   ]
  },
  {
   "cell_type": "code",
   "execution_count": 23,
   "id": "3d725e0c",
   "metadata": {},
   "outputs": [],
   "source": [
    "def findAnagramGroup(Anagrams):\n",
    "    anagram_map ={}\n",
    "    for i in Anagrams:\n",
    "        word = tuple(sorted(i))\n",
    "        if word in anagram_map:\n",
    "            anagram_map[word].append(i)\n",
    "        else:\n",
    "            anagram_map[word] = [i]\n",
    "    return anagram_map"
   ]
  },
  {
   "cell_type": "code",
   "execution_count": 25,
   "id": "92c931e2",
   "metadata": {},
   "outputs": [
    {
     "name": "stdout",
     "output_type": "stream",
     "text": [
      "dict_values([['bat', 'tab'], ['listen', 'silent'], ['car']])\n"
     ]
    }
   ],
   "source": [
    "list_of_anagrams = [\"bat\", \"tab\", \"listen\", \"silent\", \"car\" ]\n",
    "dictionary=findAnagramGroup(list_of_anagrams)\n",
    "print(dictionary.values())"
   ]
  },
  {
   "cell_type": "code",
   "execution_count": null,
   "id": "3282f4e8",
   "metadata": {},
   "outputs": [],
   "source": []
  }
 ],
 "metadata": {
  "kernelspec": {
   "display_name": "Python 3 (ipykernel)",
   "language": "python",
   "name": "python3"
  },
  "language_info": {
   "codemirror_mode": {
    "name": "ipython",
    "version": 3
   },
   "file_extension": ".py",
   "mimetype": "text/x-python",
   "name": "python",
   "nbconvert_exporter": "python",
   "pygments_lexer": "ipython3",
   "version": "3.9.13"
  }
 },
 "nbformat": 4,
 "nbformat_minor": 5
}
