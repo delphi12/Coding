{
 "cells": [
  {
   "cell_type": "code",
   "execution_count": 3,
   "id": "99d859a4",
   "metadata": {},
   "outputs": [
    {
     "data": {
      "text/plain": [
       "'Write a function to parse the log data to find distinct users that meet or cross a certain threshold. \\nThe function will take in 2 inputs:'"
      ]
     },
     "execution_count": 3,
     "metadata": {},
     "output_type": "execute_result"
    }
   ],
   "source": [
    "\"\"\"Amazon parses logs of user transactions/activity to flag fraudulent activity. \n",
    "The log file is represented as an Array of arrays. The arrays consist of the following data:\"\"\"\n",
    "\n",
    "# [<userid1> <userid2> <# of transactions>]\n",
    "\n",
    "# For example:\n",
    "\n",
    "# [345366 89921 45]\n",
    "# Note the data is space delimited\n",
    "\n",
    "# So, the log data would look like: chocloate chip, mousse royale\n",
    "\n",
    "# [\n",
    "# [345366 89921 45],\n",
    "# [029323 38239 23]\n",
    "# ...\n",
    "# ]\n",
    "\"\"\"Write a function to parse the log data to find distinct users that meet or cross a certain threshold. \n",
    "The function will take in 2 inputs:\"\"\"\n",
    "\n",
    "# Input 1: Log data in form an array of arrays\n",
    "# Input 2: threshold as an integer\n",
    "\n",
    "# Output should be an array of userids that are sorted.\n",
    "\n",
    "\n",
    "# If same userid appears in the transaction as userid1 and userid2, it should count as one occurence, not two."
   ]
  },
  {
   "cell_type": "code",
   "execution_count": 41,
   "id": "ccc79a5e",
   "metadata": {},
   "outputs": [],
   "source": [
    "#original solution\n",
    "def process(logs, threshold):\n",
    "    \n",
    "    logs_map ={}\n",
    "    result=[]\n",
    "    \n",
    "    for log in logs:\n",
    "        temp = log.split(\" \")\n",
    "        sender = temp[0]\n",
    "        recipient = temp[1]\n",
    "        amount = temp[2]\n",
    "        if(sender!=recipient):\n",
    "            if sender not in logs_map:\n",
    "                logs_map[sender] = 1\n",
    "            else:\n",
    "                logs_map[sender] += 1\n",
    "                \n",
    "            if recipient not in logs_map:\n",
    "                logs_map[recipient] = 1\n",
    "            else:\n",
    "                logs_map[recipient] += 1\n",
    "        else:\n",
    "            if sender not in logs_map:\n",
    "                logs_map[sender] = 1\n",
    "            else:\n",
    "                logs_map[sender] += 1\n",
    "    \n",
    "    for i in logs_map:\n",
    "        if logs_map[i] >= threshold:\n",
    "            result.append(int(i))\n",
    "    return sorted(result, reverse = True)\n",
    "    "
   ]
  },
  {
   "cell_type": "code",
   "execution_count": 42,
   "id": "578f185a",
   "metadata": {},
   "outputs": [
    {
     "data": {
      "text/plain": [
       "[345366, 38239, 29323]"
      ]
     },
     "execution_count": 42,
     "metadata": {},
     "output_type": "execute_result"
    }
   ],
   "source": [
    "thresholds = 3\n",
    "\n",
    "logs = [\"345366 89921 45\", \"029323 38239 23\", \"38239 345366 15\",\n",
    "\"029323 38239 77\", \"345366 38239 23\", \"029323 345366 13\",\n",
    "\"38239 38239 23\"]\n",
    "\n",
    "#outputs = [[345366, 38239, 29323]]\n",
    "\n",
    "process(logs, thresholds)"
   ]
  },
  {
   "cell_type": "code",
   "execution_count": 53,
   "id": "209a92de",
   "metadata": {},
   "outputs": [],
   "source": [
    "#optimized solution\n",
    "\n",
    "def transaction_logs(logs, threshold):\n",
    "        user_map = {}\n",
    "        for log in logs:\n",
    "            log_arr = log.split(\" \")\n",
    "            user_map[log_arr[0]] = user_map.get(log_arr[0], 0) + 1\n",
    "            if (log_arr[0]!= log_arr[1]):\n",
    "                user_map[log_arr[1]] = user_map.get(log_arr[1], 0) + 1\n",
    "        target_users = []\n",
    "        for key, val in user_map.items():\n",
    "            if (val >= threshold):\n",
    "                target_users.append(int(key))\n",
    "        return sorted(target_users, reverse=True)"
   ]
  },
  {
   "cell_type": "code",
   "execution_count": 54,
   "id": "d8634851",
   "metadata": {},
   "outputs": [
    {
     "data": {
      "text/plain": [
       "[345366, 38239, 29323]"
      ]
     },
     "execution_count": 54,
     "metadata": {},
     "output_type": "execute_result"
    }
   ],
   "source": [
    "thresholds = 3\n",
    "\n",
    "logs = [\"345366 89921 45\", \"029323 38239 23\", \"38239 345366 15\",\n",
    "\"029323 38239 77\", \"345366 38239 23\", \"029323 345366 13\",\n",
    "\"38239 38239 23\"]\n",
    "transaction_logs(logs, thresholds)"
   ]
  },
  {
   "cell_type": "code",
   "execution_count": null,
   "id": "a3a34283",
   "metadata": {},
   "outputs": [],
   "source": []
  },
  {
   "cell_type": "code",
   "execution_count": null,
   "id": "49d5a204",
   "metadata": {},
   "outputs": [],
   "source": []
  }
 ],
 "metadata": {
  "kernelspec": {
   "display_name": "Python 3 (ipykernel)",
   "language": "python",
   "name": "python3"
  },
  "language_info": {
   "codemirror_mode": {
    "name": "ipython",
    "version": 3
   },
   "file_extension": ".py",
   "mimetype": "text/x-python",
   "name": "python",
   "nbconvert_exporter": "python",
   "pygments_lexer": "ipython3",
   "version": "3.9.13"
  }
 },
 "nbformat": 4,
 "nbformat_minor": 5
}
