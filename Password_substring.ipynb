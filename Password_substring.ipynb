{
 "cells": [
  {
   "cell_type": "code",
   "execution_count": 84,
   "id": "ee12148c",
   "metadata": {},
   "outputs": [
    {
     "name": "stdout",
     "output_type": "stream",
     "text": [
      "adcb\n",
      "abcd\n",
      "cbad\n",
      "bacd\n",
      "acbd\n",
      "abdc\n",
      "dcba\n"
     ]
    }
   ],
   "source": [
    "def generate_possible_substrings(s):\n",
    "    substrings = set()\n",
    "    n = len(s)\n",
    "    for i in range(n):\n",
    "        for j in range(i + 1, n + 1):\n",
    "            front = s[:i]\n",
    "            substring = s[i:j]\n",
    "            back = s[j:]\n",
    "            reversed_substring = front + substring[::-1] + back\n",
    "            substrings.add(reversed_substring)\n",
    "    return substrings\n",
    "\n",
    "password = 'abcd'\n",
    "possible_substrings = generate_possible_substrings(password)\n",
    "for i in possible_substrings:\n",
    "    if len(i) == len(password):\n",
    "        print(i)\n"
   ]
  },
  {
   "cell_type": "code",
   "execution_count": null,
   "id": "4e1f7c19",
   "metadata": {},
   "outputs": [],
   "source": []
  }
 ],
 "metadata": {
  "kernelspec": {
   "display_name": "Python 3 (ipykernel)",
   "language": "python",
   "name": "python3"
  },
  "language_info": {
   "codemirror_mode": {
    "name": "ipython",
    "version": 3
   },
   "file_extension": ".py",
   "mimetype": "text/x-python",
   "name": "python",
   "nbconvert_exporter": "python",
   "pygments_lexer": "ipython3",
   "version": "3.9.13"
  }
 },
 "nbformat": 4,
 "nbformat_minor": 5
}
