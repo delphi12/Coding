{
 "cells": [
  {
   "cell_type": "markdown",
   "id": "390263f9",
   "metadata": {},
   "source": [
    "# Dynamic Programming - Top-Down  and Bottom-Up Approach"
   ]
  },
  {
   "cell_type": "markdown",
   "id": "e7560bed",
   "metadata": {},
   "source": [
    "#### Fibonacci series using memoization "
   ]
  },
  {
   "cell_type": "code",
   "execution_count": 1,
   "id": "48eb9c45",
   "metadata": {},
   "outputs": [],
   "source": [
    "def fibMemo(n, memo):\n",
    "    if n==1:\n",
    "        return 0\n",
    "    if n==2:\n",
    "        return 1\n",
    "    if n not in memo:\n",
    "        memo[n] = fibMemo(n-1, memo) + fibMemo(n-2, memo)\n",
    "    return memo[n]"
   ]
  },
  {
   "cell_type": "code",
   "execution_count": 2,
   "id": "cdcdce17",
   "metadata": {},
   "outputs": [
    {
     "data": {
      "text/plain": [
       "5"
      ]
     },
     "execution_count": 2,
     "metadata": {},
     "output_type": "execute_result"
    }
   ],
   "source": [
    "tempDict = {}\n",
    "fibMemo(6,tempDict)"
   ]
  },
  {
   "cell_type": "code",
   "execution_count": 3,
   "id": "25f758e6",
   "metadata": {},
   "outputs": [
    {
     "name": "stdout",
     "output_type": "stream",
     "text": [
      "0\n",
      "1\n",
      "1\n",
      "2\n",
      "3\n",
      "5\n"
     ]
    }
   ],
   "source": [
    "print(\"0\")\n",
    "print(\"1\")\n",
    "for element in tempDict.values():\n",
    "    print(element)"
   ]
  },
  {
   "cell_type": "markdown",
   "id": "b24f0ffc",
   "metadata": {},
   "source": [
    "#### Slow, stack is used"
   ]
  },
  {
   "cell_type": "markdown",
   "id": "09b7cf9a",
   "metadata": {},
   "source": [
    "#### Fibonacci series using Tabulation - Bottom-up"
   ]
  },
  {
   "cell_type": "code",
   "execution_count": 6,
   "id": "0209549a",
   "metadata": {},
   "outputs": [],
   "source": [
    "def fibTab(n):\n",
    "    temp=[0,1]\n",
    "    for i in range(2, n+1):\n",
    "        temp.append(temp[i-1] + temp[i-2])\n",
    "    print(temp)"
   ]
  },
  {
   "cell_type": "code",
   "execution_count": 7,
   "id": "87dc492e",
   "metadata": {},
   "outputs": [
    {
     "name": "stdout",
     "output_type": "stream",
     "text": [
      "[0, 1, 1, 2, 3, 5, 8]\n"
     ]
    }
   ],
   "source": [
    "fibTab(6)"
   ]
  },
  {
   "cell_type": "markdown",
   "id": "6c3a13b0",
   "metadata": {},
   "source": [
    "#### Benefits of Bottom-up: Stack is not used, efficient, Fast"
   ]
  }
 ],
 "metadata": {
  "kernelspec": {
   "display_name": "Python 3 (ipykernel)",
   "language": "python",
   "name": "python3"
  },
  "language_info": {
   "codemirror_mode": {
    "name": "ipython",
    "version": 3
   },
   "file_extension": ".py",
   "mimetype": "text/x-python",
   "name": "python",
   "nbconvert_exporter": "python",
   "pygments_lexer": "ipython3",
   "version": "3.9.13"
  }
 },
 "nbformat": 4,
 "nbformat_minor": 5
}
